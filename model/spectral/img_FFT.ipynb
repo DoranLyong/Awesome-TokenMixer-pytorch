{
 "cells": [
  {
   "cell_type": "markdown",
   "metadata": {},
   "source": [
    "Reference \n",
    "* [how-do-vits-work](https://colab.research.google.com/github/xxxnell/how-do-vits-work/blob/transformer/fourier_analysis.ipynb#scrollTo=a7350a20)\n",
    "* [Fourier Convolutions with Kernel Sizes of 1024x1024 and Larger](https://towardsdatascience.com/fourier-cnns-with-kernel-sizes-of-1024x1024-and-larger-29f513fd6120)\n",
    "* [Fast-CNN](https://github.com/pushkar-khetrapal/Fast-CNN/blob/master/Convolution%20vs%20FFT%20explaination.ipynb)"
   ]
  },
  {
   "cell_type": "code",
   "execution_count": 1,
   "metadata": {},
   "outputs": [
    {
     "name": "stderr",
     "output_type": "stream",
     "text": [
      "/home/kist/anaconda3/envs/pt12/lib/python3.10/site-packages/tqdm/auto.py:22: TqdmWarning: IProgress not found. Please update jupyter and ipywidgets. See https://ipywidgets.readthedocs.io/en/stable/user_install.html\n",
      "  from .autonotebook import tqdm as notebook_tqdm\n"
     ]
    }
   ],
   "source": [
    "import numpy as np \n",
    "from PIL import Image \n",
    "\n",
    "import torch \n",
    "import torch.nn as nn \n",
    "import torchvision.transforms as T "
   ]
  },
  {
   "cell_type": "code",
   "execution_count": 2,
   "metadata": {},
   "outputs": [],
   "source": [
    "def fourier(x):  # 2D Fourier transform\n",
    "    f = torch.fft.fft2(x)\n",
    "    f = f.abs() + 1e-6\n",
    "    f = f.log()\n",
    "    return f\n",
    "\n",
    "def shift(x):  # shift Fourier transformed feature map\n",
    "    b, c, h, w = x.shape\n",
    "    return torch.roll(x, shifts=(int(h/2), int(w/2)), dims=(2, 3))    "
   ]
  },
  {
   "cell_type": "code",
   "execution_count": 3,
   "metadata": {},
   "outputs": [],
   "source": [
    "img = Image.open(\"Lenna.png\").convert('L')\n",
    "img.show()"
   ]
  },
  {
   "cell_type": "markdown",
   "metadata": {},
   "source": [
    "# Spatial Convolution "
   ]
  },
  {
   "cell_type": "code",
   "execution_count": 4,
   "metadata": {},
   "outputs": [],
   "source": [
    "def convolution(img_slice, kernel):\n",
    "    conv_img = 0\n",
    "    conv_img = np.multiply(img_slice, kernel)\n",
    "    conv_img = np.sum(conv_img)\n",
    "    return conv_img"
   ]
  },
  {
   "cell_type": "code",
   "execution_count": 5,
   "metadata": {},
   "outputs": [],
   "source": [
    "img_np = np.array(img)\n",
    "\n",
    "H, W = img_np.shape"
   ]
  },
  {
   "cell_type": "code",
   "execution_count": 6,
   "metadata": {},
   "outputs": [],
   "source": [
    "filter = np.array([[-1,  -1, -1],\n",
    "                   [-1,  8, -1],\n",
    "                   [-1, -1, -1]])  # edge detection filter \n",
    "                                   # https://medium.com/@kgerding/image-kernels-2f8a36087b75"
   ]
  },
  {
   "cell_type": "code",
   "execution_count": 7,
   "metadata": {},
   "outputs": [],
   "source": [
    "convoled_img = np.zeros(shape = (H-2, W-2))\n",
    "\n",
    "for i in  range(H-2): \n",
    "    for j in range(W-2):\n",
    "        img_stem = img_np[i:i+3,j:j+3]\n",
    "        convoled_img[i,j] = convolution(img_stem, filter)"
   ]
  },
  {
   "cell_type": "code",
   "execution_count": 8,
   "metadata": {},
   "outputs": [],
   "source": [
    "convoled_img_pil = Image.fromarray(convoled_img)\n",
    "convoled_img_pil.show()"
   ]
  },
  {
   "cell_type": "markdown",
   "metadata": {},
   "source": [
    "# FFT Convolution "
   ]
  },
  {
   "cell_type": "code",
   "execution_count": 9,
   "metadata": {},
   "outputs": [],
   "source": [
    "def fourier2d(img_np):  # 2D Fourier transform\n",
    "    f = np.fft.fft2(img_np)\n",
    "    fshift = np.fft.fftshift(f) # low_frequency components are at the center\n",
    "    magnitude_spectrum = 20*np.log(np.abs(fshift))\n",
    "\n",
    "    return magnitude_spectrum"
   ]
  },
  {
   "cell_type": "code",
   "execution_count": 10,
   "metadata": {},
   "outputs": [],
   "source": [
    "out = fourier2d(img_np)\n",
    "\n",
    "Image.fromarray(out).show()"
   ]
  },
  {
   "cell_type": "code",
   "execution_count": 11,
   "metadata": {},
   "outputs": [
    {
     "name": "stdout",
     "output_type": "stream",
     "text": [
      "(225, 225)\n"
     ]
    }
   ],
   "source": [
    "f2 = np.pad(filter,(111,111))\n",
    "f21 = np.fft.fftn(f2)\n",
    "print(f21.shape)"
   ]
  },
  {
   "cell_type": "code",
   "execution_count": null,
   "metadata": {},
   "outputs": [],
   "source": []
  }
 ],
 "metadata": {
  "kernelspec": {
   "display_name": "Python 3.10.8 ('pt12')",
   "language": "python",
   "name": "python3"
  },
  "language_info": {
   "codemirror_mode": {
    "name": "ipython",
    "version": 3
   },
   "file_extension": ".py",
   "mimetype": "text/x-python",
   "name": "python",
   "nbconvert_exporter": "python",
   "pygments_lexer": "ipython3",
   "version": "3.10.8"
  },
  "orig_nbformat": 4,
  "vscode": {
   "interpreter": {
    "hash": "349aefffff1221df15499c2398db49473fd9abe0307df4dbd365c79b3998c98f"
   }
  }
 },
 "nbformat": 4,
 "nbformat_minor": 2
}
